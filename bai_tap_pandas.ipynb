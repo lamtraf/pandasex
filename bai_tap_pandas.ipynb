{
  "nbformat": 4,
  "nbformat_minor": 0,
  "metadata": {
    "colab": {
      "name": "bai tap pandas",
      "provenance": [],
      "mount_file_id": "1Ydd30ilje3uHKpfCFtkU9qLRwcy1RFfk",
      "authorship_tag": "ABX9TyPSt8tmEnHfXg632OayaWgn",
      "include_colab_link": true
    },
    "kernelspec": {
      "name": "python3",
      "display_name": "Python 3"
    },
    "language_info": {
      "name": "python"
    }
  },
  "cells": [
    {
      "cell_type": "markdown",
      "metadata": {
        "id": "view-in-github",
        "colab_type": "text"
      },
      "source": [
        "<a href=\"https://colab.research.google.com/github/lamtraf/pandasex/blob/main/bai_tap_pandas.ipynb\" target=\"_parent\"><img src=\"https://colab.research.google.com/assets/colab-badge.svg\" alt=\"Open In Colab\"/></a>"
      ]
    },
    {
      "cell_type": "code",
      "metadata": {
        "id": "L7jsinnkMkXb",
        "colab": {
          "base_uri": "https://localhost:8080/"
        },
        "outputId": "29b45efb-7660-405f-f606-cd6a85754943"
      },
      "source": [
        "!pip install fsspec"
      ],
      "execution_count": 1,
      "outputs": [
        {
          "output_type": "stream",
          "name": "stdout",
          "text": [
            "Collecting fsspec\n",
            "  Downloading fsspec-2022.2.0-py3-none-any.whl (134 kB)\n",
            "\u001b[?25l\r\u001b[K     |██▍                             | 10 kB 14.7 MB/s eta 0:00:01\r\u001b[K     |████▉                           | 20 kB 19.1 MB/s eta 0:00:01\r\u001b[K     |███████▎                        | 30 kB 16.4 MB/s eta 0:00:01\r\u001b[K     |█████████▊                      | 40 kB 7.1 MB/s eta 0:00:01\r\u001b[K     |████████████▏                   | 51 kB 5.6 MB/s eta 0:00:01\r\u001b[K     |██████████████▋                 | 61 kB 6.6 MB/s eta 0:00:01\r\u001b[K     |█████████████████               | 71 kB 7.5 MB/s eta 0:00:01\r\u001b[K     |███████████████████▍            | 81 kB 6.2 MB/s eta 0:00:01\r\u001b[K     |█████████████████████▉          | 92 kB 6.8 MB/s eta 0:00:01\r\u001b[K     |████████████████████████▎       | 102 kB 7.4 MB/s eta 0:00:01\r\u001b[K     |██████████████████████████▊     | 112 kB 7.4 MB/s eta 0:00:01\r\u001b[K     |█████████████████████████████▏  | 122 kB 7.4 MB/s eta 0:00:01\r\u001b[K     |███████████████████████████████▋| 133 kB 7.4 MB/s eta 0:00:01\r\u001b[K     |████████████████████████████████| 134 kB 7.4 MB/s \n",
            "\u001b[?25hInstalling collected packages: fsspec\n",
            "Successfully installed fsspec-2022.2.0\n"
          ]
        }
      ]
    },
    {
      "cell_type": "code",
      "metadata": {
        "colab": {
          "base_uri": "https://localhost:8080/"
        },
        "id": "y7oNktTkRT71",
        "outputId": "97ff0511-07ec-4368-949f-8ba6d3150674"
      },
      "source": [
        "from google.colab import drive \n",
        "drive.mount('/content/gdrive')"
      ],
      "execution_count": 2,
      "outputs": [
        {
          "output_type": "stream",
          "name": "stdout",
          "text": [
            "Mounted at /content/gdrive\n"
          ]
        }
      ]
    },
    {
      "cell_type": "code",
      "metadata": {
        "id": "_l6f47B56heu"
      },
      "source": [
        "import pandas as pd\n",
        "import numpy as np\n",
        "df = pd.read_csv(\"/content/gdrive/MyDrive/timfile.csv\", sep=\",\")\n"
      ],
      "execution_count": 3,
      "outputs": []
    },
    {
      "cell_type": "code",
      "metadata": {
        "id": "MmHW6rKDRfdn"
      },
      "source": [
        "X = []\n",
        "X = df.filter(like = 'X',axis = 1)\n",
        "Y = []\n",
        "Y = df.filter(like = 'Y',axis = 1)\n",
        "Z = []\n",
        "Z = df.filter(like = 'Z',axis = 1)"
      ],
      "execution_count": 4,
      "outputs": []
    },
    {
      "cell_type": "code",
      "metadata": {
        "id": "-CKFaWTHRvKP"
      },
      "source": [
        "%matplotlib inline\n",
        "import matplotlib.pyplot as plt\n",
        "def plot(i):\n",
        "    fig = plt.figure()\n",
        "    ax = plt.axes(projection=\"3d\")\n",
        "    ax.scatter(X.iloc[i], Z.iloc[i], Y.iloc[i], cmap='viridis', linewidth=0.5)\n",
        "    ax.set_xlabel(\"X\")\n",
        "    ax.set_ylabel(\"Y\")\n",
        "    ax.set_zlabel(\"Z\")\n",
        "    ax.set(xlim = [-3000, 2000], zlim = [0, 2000], ylim = [-1000, 1000]) \n",
        "    f = \"/content/\" + str(i) + \".png\"\n",
        "    plt.savefig(f)\n",
        "    plt.close(fig)"
      ],
      "execution_count": 5,
      "outputs": []
    },
    {
      "cell_type": "code",
      "metadata": {
        "id": "Ce6jUHu7Rw8Q"
      },
      "source": [
        "for i in range(len(X)):\n",
        "  plot(i)"
      ],
      "execution_count": 6,
      "outputs": []
    },
    {
      "cell_type": "code",
      "metadata": {
        "id": "1DX1x6I1q_LM"
      },
      "source": [
        "from PIL import Image\n",
        "\n",
        "images = [Image.open(f\"/content/{n}.png\") for n in range(len(X))]\n",
        "images[0].save('/content/video.gif', save_all=True, append_images=images[1:], duration=40, loop=0)"
      ],
      "execution_count": 7,
      "outputs": []
    },
    {
      "cell_type": "code",
      "source": [
        ""
      ],
      "metadata": {
        "id": "c6bRDj1vo-lw"
      },
      "execution_count": null,
      "outputs": []
    }
  ]
}